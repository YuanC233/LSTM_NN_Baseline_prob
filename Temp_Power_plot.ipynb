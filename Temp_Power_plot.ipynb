{
 "cells": [
  {
   "cell_type": "code",
   "execution_count": 1,
   "metadata": {},
   "outputs": [],
   "source": [
    "import pandas as pd\n",
    "import numpy as np\n",
    "from matplotlib import pyplot as plt\n",
    "from numpy import genfromtxt"
   ]
  },
  {
   "cell_type": "code",
   "execution_count": 2,
   "metadata": {},
   "outputs": [],
   "source": [
    "# import weather data\n",
    "file = pd.read_csv('./Austin_weather_11month_excludewintersaving.csv', delimiter=',')\n",
    "# hour, airtemp_f, cloudcover, pressure, dayofweek\n",
    "weather = np.asarray(file.iloc[:, 2:7])\n",
    "temp = weather[:, 1:2]\n",
    "\n",
    "data = genfromtxt('./ave_hourly_aggregatepower.csv', delimiter=',')\n",
    "power = np.expand_dims(data, axis=1)"
   ]
  },
  {
   "cell_type": "code",
   "execution_count": 3,
   "metadata": {},
   "outputs": [],
   "source": [
    "temp_power = np.hstack((temp, power))"
   ]
  },
  {
   "cell_type": "code",
   "execution_count": 4,
   "metadata": {},
   "outputs": [],
   "source": [
    "temp_76 = []\n",
    "power_76 = []\n",
    "temp_45 = []\n",
    "power_45 = []\n",
    "temp_4576 = []\n",
    "power_4576= []\n",
    "for i in range(temp.shape[0]):\n",
    "    if temp_power[i, 0] >= 74:\n",
    "        temp_76.append(temp_power[i,0])\n",
    "        power_76.append(temp_power[i, 1])\n",
    "    elif temp_power[i, 0] >=50 and temp_power[i, 0] <74:\n",
    "        temp_4576.append(temp_power[i,0])\n",
    "        power_4576.append(temp_power[i, 1])\n",
    "    else:\n",
    "        temp_45.append(temp_power[i,0])\n",
    "        power_45.append(temp_power[i, 1])\n"
   ]
  },
  {
   "cell_type": "code",
   "execution_count": 5,
   "metadata": {},
   "outputs": [],
   "source": [
    "temp_45 = np.asarray(temp_45)\n",
    "power_45 = np.asarray(power_45)\n",
    "temp_76 = np.asarray(temp_76)\n",
    "power_76 = np.asarray(power_76)\n",
    "temp_4576 = np.asarray(temp_4576)\n",
    "power_4576 = np.asarray(power_4576)"
   ]
  },
  {
   "cell_type": "code",
   "execution_count": 8,
   "metadata": {},
   "outputs": [
    {
     "data": {
      "text/latex": [
       "$x \\mapsto \\text{13.17270781780036} - \\text{3.3923584989423152}\\,\\left(\\text{-2.0556234718826407} + \\text{0.06112469437652812}x\\right)$"
      ],
      "text/plain": [
       "Polynomial([13.17270782, -3.3923585 ], domain=[17.27, 49.99], window=[-1.,  1.])"
      ]
     },
     "execution_count": 8,
     "metadata": {},
     "output_type": "execute_result"
    }
   ],
   "source": [
    "curve45, [resid45, rank45, sv45, rcond45]  = np.polynomial.polynomial.Polynomial.fit(temp_45, power_45, deg=1, full=True)\n",
    "curve4576, [resid4576, rank4576, sv4576, rcond4576]  = np.polynomial.polynomial.Polynomial.fit(temp_4576, power_4576, deg=1, full=True)\n",
    "curve76, [resid76, rank76, sv76, rcond76]  = np.polynomial.polynomial.Polynomial.fit(temp_76, power_76, deg=1, full=True)\n",
    "\n",
    "curve45\n"
   ]
  },
  {
   "cell_type": "code",
   "execution_count": 9,
   "metadata": {},
   "outputs": [
    {
     "data": {
      "text/plain": [
       "array([20.14611957, -0.20735688])"
      ]
     },
     "execution_count": 9,
     "metadata": {},
     "output_type": "execute_result"
    }
   ],
   "source": [
    "curve45.convert().coef"
   ]
  },
  {
   "cell_type": "code",
   "execution_count": null,
   "metadata": {},
   "outputs": [],
   "source": []
  }
 ],
 "metadata": {
  "kernelspec": {
   "display_name": "Python 3",
   "language": "python",
   "name": "python3"
  },
  "language_info": {
   "codemirror_mode": {
    "name": "ipython",
    "version": 3
   },
   "file_extension": ".py",
   "mimetype": "text/x-python",
   "name": "python",
   "nbconvert_exporter": "python",
   "pygments_lexer": "ipython3",
   "version": "3.7.4"
  }
 },
 "nbformat": 4,
 "nbformat_minor": 4
}
